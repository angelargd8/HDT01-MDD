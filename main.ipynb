{
 "cells": [
  {
   "cell_type": "code",
   "execution_count": 44,
   "metadata": {},
   "outputs": [],
   "source": [
    "#librerias \n",
    "import numpy as np\n",
    "import pandas as pd\n",
    "import matplotlib.pyplot as plt\n",
    "import scipy.stats as stats\n",
    "import statsmodels.stats.diagnostic as diag\n",
    "import statsmodels.api as sm\n",
    "from sklearn.preprocessing import StandardScaler\n",
    "from sklearn.model_selection import train_test_split\n",
    "from sklearn.metrics import precision_score, accuracy_score, recall_score, f1_score, confusion_matrix\n"
   ]
  },
  {
   "cell_type": "code",
   "execution_count": 45,
   "metadata": {},
   "outputs": [],
   "source": [
    "#cargar los datos\n",
    "df = pd.read_csv(\"movies.csv\", encoding=\"latin1\")"
   ]
  },
  {
   "cell_type": "markdown",
   "metadata": {},
   "source": [
    "# 1. Exploración de datos"
   ]
  },
  {
   "cell_type": "code",
   "execution_count": 46,
   "metadata": {},
   "outputs": [
    {
     "name": "stdout",
     "output_type": "stream",
     "text": [
      "\n",
      "--Columnas:---\n",
      "['id', 'budget', 'genres', 'homePage', 'productionCompany', 'productionCompanyCountry', 'productionCountry', 'revenue', 'runtime', 'video', 'director', 'actors', 'actorsPopularity', 'actorsCharacter', 'originalTitle', 'title', 'originalLanguage', 'popularity', 'releaseDate', 'voteAvg', 'voteCount', 'genresAmount', 'productionCoAmount', 'productionCountriesAmount', 'actorsAmount', 'castWomenAmount', 'castMenAmount']\n",
      "\n",
      "--Resumen del set de datos:--\n",
      "                  id        budget       revenue       runtime    popularity  \\\n",
      "count   10000.000000  1.000000e+04  1.000000e+04  10000.000000  10000.000000   \n",
      "mean   249876.829300  1.855163e+07  5.673793e+07    100.268100     51.393907   \n",
      "std    257380.109004  3.662669e+07  1.495854e+08     27.777829    216.729552   \n",
      "min         5.000000  0.000000e+00  0.000000e+00      0.000000      4.258000   \n",
      "25%     12286.500000  0.000000e+00  0.000000e+00     90.000000     14.577750   \n",
      "50%    152558.000000  5.000000e+05  1.631245e+05    100.000000     21.905500   \n",
      "75%    452021.750000  2.000000e+07  4.479661e+07    113.000000     40.654000   \n",
      "max    922260.000000  3.800000e+08  2.847246e+09    750.000000  11474.647000   \n",
      "\n",
      "            voteAvg     voteCount  genresAmount  productionCoAmount  \\\n",
      "count  10000.000000  10000.000000  10000.000000        10000.000000   \n",
      "mean       6.483490   1342.381800      2.596500            3.171400   \n",
      "std        0.984274   2564.196637      1.154565            2.539738   \n",
      "min        1.300000      1.000000      0.000000            0.000000   \n",
      "25%        5.900000    120.000000      2.000000            2.000000   \n",
      "50%        6.500000    415.000000      3.000000            3.000000   \n",
      "75%        7.200000   1316.000000      3.000000            4.000000   \n",
      "max       10.000000  30788.000000     16.000000           89.000000   \n",
      "\n",
      "       productionCountriesAmount   actorsAmount  \n",
      "count               10000.000000   10000.000000  \n",
      "mean                    1.751000    2147.666600  \n",
      "std                     3.012093   37200.075802  \n",
      "min                     0.000000       0.000000  \n",
      "25%                     1.000000      13.000000  \n",
      "50%                     1.000000      21.000000  \n",
      "75%                     2.000000      36.000000  \n",
      "max                   155.000000  919590.000000  \n"
     ]
    }
   ],
   "source": [
    "#exploracion de los datos\n",
    "#mostrar las columanas\n",
    "print(\"\\n--Columnas:---\")\n",
    "print(list(df.columns))\n",
    "\n",
    "#resumen del set de datos\n",
    "print(\"\\n--Resumen del set de datos:--\")\n",
    "print(df.describe())\n"
   ]
  },
  {
   "cell_type": "code",
   "execution_count": 47,
   "metadata": {},
   "outputs": [
    {
     "name": "stdout",
     "output_type": "stream",
     "text": [
      "\n",
      "----Tipo de datos:---\n",
      "id                             int64\n",
      "budget                         int64\n",
      "genres                        object\n",
      "homePage                      object\n",
      "productionCompany             object\n",
      "productionCompanyCountry      object\n",
      "productionCountry             object\n",
      "revenue                      float64\n",
      "runtime                        int64\n",
      "video                         object\n",
      "director                      object\n",
      "actors                        object\n",
      "actorsPopularity              object\n",
      "actorsCharacter               object\n",
      "originalTitle                 object\n",
      "title                         object\n",
      "originalLanguage              object\n",
      "popularity                   float64\n",
      "releaseDate                   object\n",
      "voteAvg                      float64\n",
      "voteCount                      int64\n",
      "genresAmount                   int64\n",
      "productionCoAmount             int64\n",
      "productionCountriesAmount      int64\n",
      "actorsAmount                   int64\n",
      "castWomenAmount               object\n",
      "castMenAmount                 object\n",
      "dtype: object\n",
      "resumen:\n",
      "object     16\n",
      "int64       8\n",
      "float64     3\n",
      "Name: count, dtype: int64\n"
     ]
    }
   ],
   "source": [
    "#obtener el tipo de datos\n",
    "print(\"\\n----Tipo de datos:---\")\n",
    "print(df.dtypes)\n",
    "tipos_de_datos = df.dtypes.value_counts()\n",
    "print('resumen:')\n",
    "print(tipos_de_datos)\n"
   ]
  },
  {
   "cell_type": "markdown",
   "metadata": {},
   "source": [
    "---\n",
    "# 2. Tipo de variables "
   ]
  },
  {
   "cell_type": "markdown",
   "metadata": {},
   "source": [
    "### Variables:\n",
    "1. Id: Id de la película \n",
    "\n",
    "2. popularity: Índice de popularidad de la película calculado semanalmente \n",
    "\n",
    "3. budget: El presupuesto para la película. \n",
    "\n",
    "4. revenue: El ingreso de la película. \n",
    "\n",
    "5. original_title: El título original de la película, en su idioma original. \n",
    "\n",
    "6. originalLanguage: Idioma original en que se encuentra la película \n",
    "\n",
    "7. title: El título de la película traducido al inglés \n",
    "\n",
    "8. homePage: La página de inicio de la película \n",
    "\n",
    "9. video: Si tiene videos promocionales o no \n",
    "\n",
    "10. director: Director de la película \n",
    "\n",
    "11. runtime: La duración de la película. \n",
    "\n",
    "12. genres: El género de la película. \n",
    "\n",
    "13. genresAmount: Cantidad de géneros que representan la película \n",
    "\n",
    "14. productionCompany: Las compañías productoras de la película. \n",
    "\n",
    "15. productionCoAmount: Cantidad de compañías productoras que participaron en la película \n",
    "\n",
    "16. productionCompanyCountry: Países de las compañías productoras de la película \n",
    "\n",
    "17. productionCountry: Países en los que se llevó a cabo la producción de la película \n",
    "\n",
    "18. productionCountriesAmount: Cantidad de países en los que se rodó la película \n",
    "\n",
    "\n",
    "19. releaseDate: Fecha de lanzamiento de la película \n",
    "\n",
    "20. voteCount: El número de votos en la plataforma para la película. \n",
    "\n",
    "21. voteAvg: El promedio de los votos en la plataforma para la película \n",
    "\n",
    "\n",
    "22. actors: Actores que participan en la película (Elenco) \n",
    "\n",
    "23. actorsPopularity: Índice de popularidad del elenco de la película. \n",
    "\n",
    "24. actorsCharacter: Personaje que interpreta cada actor en la película \n",
    "\n",
    "25. actorsAmount: Cantidad de personas que actúan en la película \n",
    "\n",
    "26. castWomenAmount: Cantidad de actrices en el elenco de la película \n",
    "\n",
    "27. castMenAmount: Cantidad de actores en el elenco de la película. "
   ]
  },
  {
   "cell_type": "markdown",
   "metadata": {},
   "source": [
    "## Tipo de Varibles\n",
    "### Variables Cualitativas:\n",
    "#### Ordinales:\n",
    "- No hay\n",
    " \n",
    "#### Nominales:\n",
    "- original_title\n",
    "- originalLanguage\n",
    "- title\n",
    "- homePage\n",
    "- director\n",
    "- genres\n",
    "- productionCompany\n",
    "- productionCompanyCountry\n",
    "- productionCountry\n",
    "- video\n",
    "- actors\n",
    "- actorsCharacter\n",
    "\n",
    "\n",
    "### Variables Cuantitativas:\n",
    "#### Continuas:\n",
    "- popularity\n",
    "- revenue\n",
    "- voteAvg\n",
    "\n",
    "\n",
    "#### Discretas:\n",
    "- Id\n",
    "- releaseDate\n",
    "- budget\n",
    "- runtime\n",
    "- genresAmount\n",
    "- productionCoAmount\n",
    "- productionCountriesAmount\n",
    "- voteCount\n",
    "- actorsPopularity\n",
    "- actorsAmount\n",
    "- castWomenAmount\n",
    "- castMenAmount\n"
   ]
  },
  {
   "cell_type": "code",
   "execution_count": 48,
   "metadata": {},
   "outputs": [
    {
     "name": "stdout",
     "output_type": "stream",
     "text": [
      "0\n"
     ]
    }
   ],
   "source": [
    "# revision de valores duplicados\n",
    "print(df.duplicated().sum())"
   ]
  },
  {
   "cell_type": "code",
   "execution_count": 49,
   "metadata": {},
   "outputs": [
    {
     "name": "stderr",
     "output_type": "stream",
     "text": [
      "C:\\Users\\Francis\\AppData\\Local\\Temp\\ipykernel_28424\\2643670234.py:5: FutureWarning: A value is trying to be set on a copy of a DataFrame or Series through chained assignment using an inplace method.\n",
      "The behavior will change in pandas 3.0. This inplace method will never work because the intermediate object on which we are setting values always behaves as a copy.\n",
      "\n",
      "For example, when doing 'df[col].method(value, inplace=True)', try using 'df.method({col: value}, inplace=True)' or df[col] = df[col].method(value) instead, to perform the operation inplace on the original object.\n",
      "\n",
      "\n",
      "  df['video'].fillna('FALSE', inplace=True)\n"
     ]
    }
   ],
   "source": [
    "# eliminar valores nulos o llenarlos con la media\n",
    "df = df.dropna()\n",
    "\n",
    "#llenar los valores nulos de video\n",
    "df['video'].fillna('FALSE', inplace=True)\n",
    "\n",
    "#calcular la media de solo las columnas numericas\n",
    "mean_values = df.select_dtypes(include=[np.number]).mean()\n",
    "\n",
    "#reemplazar valores nulos con la media\n",
    "df.fillna(mean_values, inplace=True)\n"
   ]
  },
  {
   "cell_type": "code",
   "execution_count": 50,
   "metadata": {},
   "outputs": [],
   "source": [
    "#convertir los tipos de datos\n",
    "#convertir la columna video a numerica\n",
    "df['video'] = df['video'].apply(lambda x: 1 if str(x).upper() == 'TRUE' else 0)\n",
    "\n",
    "#convertir la columna releaseDate a datetime\n",
    "df['releaseDate'] = pd.to_datetime(df['releaseDate'])\n",
    "\n",
    "#convertir las columnas popularity, revenue y voteAvg a enteros\n",
    "df['popularity'] = df['popularity'].astype(int)\n",
    "df['revenue'] = df['revenue'].astype(int)\n",
    "df['voteAvg'] = df['voteAvg'].astype(int)\n",
    "\n",
    "#asegurarse que todas las variables sean de tipo int\n",
    "df['castWomenAmount'] = df['castWomenAmount'].astype(int)\n",
    "df['castMenAmount'] = df['castMenAmount'].astype(int)"
   ]
  },
  {
   "cell_type": "code",
   "execution_count": 51,
   "metadata": {},
   "outputs": [
    {
     "name": "stdout",
     "output_type": "stream",
     "text": [
      "['actorsAmount', 'runtime']\n",
      "    id     budget                    genres  \\\n",
      "0    5    4000000              Crime|Comedy   \n",
      "10  22  140000000  Adventure|Fantasy|Action   \n",
      "11  24   30000000              Action|Crime   \n",
      "14  28   31500000                 Drama|War   \n",
      "16  35   75000000   Animation|Comedy|Family   \n",
      "\n",
      "                                             homePage  \\\n",
      "0           https://www.miramax.com/movie/four-rooms/   \n",
      "10  http://disney.go.com/disneyvideos/liveaction/p...   \n",
      "11    http://www.miramax.com/movie/kill-bill-volume-1   \n",
      "14                       http://www.apocalypsenow.com   \n",
      "16                      http://www.simpsonsmovie.com/   \n",
      "\n",
      "                                    productionCompany  \\\n",
      "0                                Miramax|A Band Apart   \n",
      "10       Walt Disney Pictures|Jerry Bruckheimer Films   \n",
      "11                               Miramax|A Band Apart   \n",
      "14                   United Artists|American Zoetrope   \n",
      "16  AKOM Production Company|Gracie Films|Rough Dra...   \n",
      "\n",
      "   productionCompanyCountry         productionCountry    revenue   runtime  \\\n",
      "0                     US|US  United States of America    4257354 -0.289711   \n",
      "10                    US|US  United States of America  655011224  1.712772   \n",
      "11                    US|US  United States of America  180899265  0.288784   \n",
      "14                    US|US  United States of America  150000000  1.890771   \n",
      "16            |US||US|US|US  United States of America  527068851 -0.779207   \n",
      "\n",
      "    video  ... popularity releaseDate voteAvg voteCount genresAmount  \\\n",
      "0       0  ...         20  1995-12-09       5      2077            2   \n",
      "10      0  ...        157  2003-07-09       7     16927            3   \n",
      "11      0  ...         41  2003-10-10       8     14202            2   \n",
      "14      0  ...         32  1979-08-15       8      6301            2   \n",
      "16      0  ...        131  2007-07-25       7      6576            3   \n",
      "\n",
      "   productionCoAmount productionCountriesAmount  actorsAmount castWomenAmount  \\\n",
      "0                   2                         1     -0.296420              15   \n",
      "10                  2                         1      1.550304               7   \n",
      "11                  2                         1      0.145188              10   \n",
      "14                  2                         1      0.185334               4   \n",
      "16                  6                         1     -0.537297               8   \n",
      "\n",
      "    castMenAmount  \n",
      "0               9  \n",
      "10             39  \n",
      "11             21  \n",
      "14             29  \n",
      "16             10  \n",
      "\n",
      "[5 rows x 27 columns]\n"
     ]
    }
   ],
   "source": [
    "#normalizacion de datos\n",
    "#no se deben de normalizar todos los dato, entonces los de \n",
    "#nobmres de las columans que no se van a normalizar, porque no es necesario\n",
    "#columans que si se van a normalizar\n",
    "numeric_columns = ['actorsAmount', 'runtime']\n",
    "print(numeric_columns)\n",
    "#normalizar los datos\n",
    "scaler = StandardScaler()\n",
    "df[numeric_columns] = scaler.fit_transform(df[numeric_columns])\n",
    "print(df.head())\n"
   ]
  },
  {
   "cell_type": "markdown",
   "metadata": {},
   "source": [
    "---\n",
    "# 3. Distribución normal para variables cualitativas y cuantitativas"
   ]
  },
  {
   "cell_type": "markdown",
   "metadata": {},
   "source": [
    "### Variables cualitativas\n",
    "Verificar si tienen una distribución normal con la prueba de ***Kolmogorov - Smirnov***\n",
    "\n",
    "**Popularity**"
   ]
  },
  {
   "cell_type": "code",
   "execution_count": 53,
   "metadata": {},
   "outputs": [
    {
     "name": "stdout",
     "output_type": "stream",
     "text": [
      "Estadístico de prueba (ks_statistic) = 0.42594086300522038258\n",
      "p-value = 0.00000000000000000000\n",
      "Se rechaza la hipótesis nula: los datos NO provienen de una distribución normal.\n"
     ]
    }
   ],
   "source": [
    "pop = df['popularity']\n",
    "\n",
    "# Realizar la prueba de Kolmogorov-Smirnov\n",
    "ks_statistic, p_value = stats.kstest(pop, 'norm', args=(np.mean(pop), np.std(pop)))\n",
    "\n",
    "# Imprimir los resultados\n",
    "print(\"Estadístico de prueba (ks_statistic) = %.20f\" % ks_statistic)\n",
    "print(\"p-value = %.20f\" % p_value)\n",
    "\n",
    "# Interpretación\n",
    "alpha = 0.05\n",
    "if p_value < alpha:\n",
    "    print(\"Se rechaza la hipótesis nula: los datos NO provienen de una distribución normal.\")\n",
    "else:\n",
    "    print(\"No se rechaza la hipótesis nula: los datos parecen provenir de una distribución normal.\")"
   ]
  },
  {
   "cell_type": "markdown",
   "metadata": {},
   "source": [
    "**Revenue**"
   ]
  },
  {
   "cell_type": "code",
   "execution_count": 55,
   "metadata": {},
   "outputs": [
    {
     "name": "stdout",
     "output_type": "stream",
     "text": [
      "Estadístico de prueba (ks_statistic) = 0.33160419033285015722\n",
      "p-value = 0.00000000000000000000\n",
      "Se rechaza la hipótesis nula: los datos NO provienen de una distribución normal.\n"
     ]
    }
   ],
   "source": [
    "rev = df['revenue']\n",
    "\n",
    "# Realizar la prueba de Kolmogorov-Smirnov\n",
    "ks_statistic, p_value = stats.kstest(rev, 'norm', args=(np.mean(rev), np.std(rev)))\n",
    "\n",
    "# Imprimir los resultados\n",
    "print(\"Estadístico de prueba (ks_statistic) = %.20f\" % ks_statistic)\n",
    "print(\"p-value = %.20f\" % p_value)\n",
    "\n",
    "# Interpretación\n",
    "alpha = 0.05\n",
    "if p_value < alpha:\n",
    "    print(\"Se rechaza la hipótesis nula: los datos NO provienen de una distribución normal.\")\n",
    "else:\n",
    "    print(\"No se rechaza la hipótesis nula: los datos parecen provenir de una distribución normal.\")"
   ]
  },
  {
   "cell_type": "markdown",
   "metadata": {},
   "source": [
    "**Budget**"
   ]
  },
  {
   "cell_type": "code",
   "execution_count": 56,
   "metadata": {},
   "outputs": [
    {
     "name": "stdout",
     "output_type": "stream",
     "text": [
      "Estadístico de prueba (ks_statistic) = 0.27983203336928369476\n",
      "p-value = 0.00000000000000000000\n",
      "Se rechaza la hipótesis nula: los datos NO provienen de una distribución normal.\n"
     ]
    }
   ],
   "source": [
    "b = df['budget']\n",
    "\n",
    "# Realizar la prueba de Kolmogorov-Smirnov\n",
    "ks_statistic, p_value = stats.kstest(b, 'norm', args=(np.mean(b), np.std(b)))\n",
    "\n",
    "# Imprimir los resultados\n",
    "print(\"Estadístico de prueba (ks_statistic) = %.20f\" % ks_statistic)\n",
    "print(\"p-value = %.20f\" % p_value)\n",
    "\n",
    "# Interpretación\n",
    "alpha = 0.05\n",
    "if p_value < alpha:\n",
    "    print(\"Se rechaza la hipótesis nula: los datos NO provienen de una distribución normal.\")\n",
    "else:\n",
    "    print(\"No se rechaza la hipótesis nula: los datos parecen provenir de una distribución normal.\")"
   ]
  },
  {
   "cell_type": "markdown",
   "metadata": {},
   "source": [
    "---\n",
    "## 4. Preguntas a responder "
   ]
  },
  {
   "cell_type": "markdown",
   "metadata": {},
   "source": [
    "a. **¿Cuáles son las 10 películas que contaron con más presupuesto?**"
   ]
  },
  {
   "cell_type": "code",
   "execution_count": 57,
   "metadata": {},
   "outputs": [
    {
     "name": "stdout",
     "output_type": "stream",
     "text": [
      "                                             title     budget\n",
      "716    Pirates of the Caribbean: On Stranger Tides  380000000\n",
      "4710                       Avengers: Age of Ultron  365000000\n",
      "5952                             Avengers: Endgame  356000000\n",
      "5953                        Avengers: Infinity War  300000000\n",
      "163       Pirates of the Caribbean: At World's End  300000000\n",
      "607                               Superman Returns  270000000\n",
      "7134                                 The Lion King  260000000\n",
      "280                                   Spider-Man 3  258000000\n",
      "2508  Harry Potter and the Deathly Hallows: Part 1  250000000\n",
      "4855     The Hobbit: The Battle of the Five Armies  250000000\n"
     ]
    }
   ],
   "source": [
    "top10 = df.sort_values(by=\"budget\", ascending=False).head(10)\n",
    "print(top10[['title', 'budget']])"
   ]
  },
  {
   "cell_type": "markdown",
   "metadata": {},
   "source": [
    "**c.  ¿Cuál es la película que más votos tuvo?**"
   ]
  },
  {
   "cell_type": "code",
   "execution_count": 59,
   "metadata": {},
   "outputs": [
    {
     "name": "stdout",
     "output_type": "stream",
     "text": [
      "La película con más votos es \"Inception\" con 30788 votos.\n"
     ]
    }
   ],
   "source": [
    "masVotada = df.sort_values(by='voteCount', ascending=False).iloc[0]\n",
    "print(f'La película con más votos es \"{masVotada[\"title\"]}\" con {masVotada[\"voteCount\"]} votos.')"
   ]
  },
  {
   "cell_type": "markdown",
   "metadata": {},
   "source": [
    "**d. ¿Cuántas películas se hicieron en cada año? ¿En qué año se hicieron más\n",
    "películas? Haga un gráfico de barras**"
   ]
  },
  {
   "cell_type": "code",
   "execution_count": 60,
   "metadata": {},
   "outputs": [
    {
     "name": "stdout",
     "output_type": "stream",
     "text": [
      "El año con más películas fue 2021 con 333 películas.\n"
     ]
    },
    {
     "data": {
      "image/png": "[encoded data removed]",
      "text/plain": [
       "<Figure size 1200x600 with 1 Axes>"
      ]
     },
     "metadata": {},
     "output_type": "display_data"
    }
   ],
   "source": [
    "\n",
    "\n",
    "# Convertir la columna de fecha de lanzamiento a tipo datetime para poder manejar los datos despues \n",
    "df[\"releaseDate\"] = pd.to_datetime(df[\"releaseDate\"], errors=\"coerce\")\n",
    "df[\"year\"] = df[\"releaseDate\"].dt.year\n",
    "\n",
    "# Contar cuántas películas se hicieron en cada año\n",
    "pelis_anio = df[\"year\"].value_counts().sort_index()\n",
    "\n",
    "# Encontrar el año con más películas\n",
    "max_year = pelis_anio.idxmax()\n",
    "max_movies = pelis_anio.max()\n",
    "\n",
    "print(f'El año con más películas fue {max_year} con {max_movies} películas.')\n",
    "\n",
    "# Graficar la cantidad de películas por año\n",
    "plt.figure(figsize=(12,6))\n",
    "plt.bar(pelis_anio.index, pelis_anio.values, color=\"skyblue\")\n",
    "plt.xlabel(\"Año\")\n",
    "plt.ylabel(\"Cantidad de películas\")\n",
    "plt.title(\"Cantidad de películas por año\")\n",
    "plt.xticks(rotation=45)\n",
    "plt.grid(axis=\"y\", linestyle=\"--\", alpha=0.7)\n",
    "\n",
    "# Mostrar el gráfico\n",
    "plt.show()\n"
   ]
  }
 ],
 "metadata": {
  "kernelspec": {
   "display_name": "Python 3",
   "language": "python",
   "name": "python3"
  },
  "language_info": {
   "codemirror_mode": {
    "name": "ipython",
    "version": 3
   },
   "file_extension": ".py",
   "mimetype": "text/x-python",
   "name": "python",
   "nbconvert_exporter": "python",
   "pygments_lexer": "ipython3",
   "version": "3.12.8"
  }
 },
 "nbformat": 4,
 "nbformat_minor": 2
}
